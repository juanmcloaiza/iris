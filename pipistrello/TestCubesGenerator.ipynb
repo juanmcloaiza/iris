{
 "cells": [
  {
   "cell_type": "code",
   "execution_count": null,
   "metadata": {
    "collapsed": false
   },
   "outputs": [],
   "source": [
    "import utils as ui ##needed to import my iris\n",
    "import iris\n",
    "import numpy as np"
   ]
  },
  {
   "cell_type": "code",
   "execution_count": null,
   "metadata": {
    "collapsed": true
   },
   "outputs": [],
   "source": [
    "def fill_array(tc,xc,yc,zc):\n",
    "    valmax = 30\n",
    "    valmin = 0\n",
    "\n",
    "    t = tc.points\n",
    "    x = xc.points\n",
    "    y = yc.points\n",
    "    z = zc.points\n",
    "    temp = (valmax-valmin) * np.einsum('i,j,k,l',1+np.sin((t/8760.)/(2.*np.pi)), 1+np.sin(x), np.cos(y), (z - zmax)/(zmax-zmin))\n",
    "\n",
    "    return temp"
   ]
  },
  {
   "cell_type": "code",
   "execution_count": null,
   "metadata": {
    "collapsed": false
   },
   "outputs": [],
   "source": [
    "tmin = 0\n",
    "tmax = 11*8760 # 8760 ~ 1yr\n",
    "tsamp = 100\n",
    "\n",
    "xmin = -179\n",
    "xmax = 179\n",
    "xsamp = 358\n",
    "\n",
    "ymin = -89\n",
    "ymax = 89\n",
    "ysamp = 178\n",
    "\n",
    "zmin = 0\n",
    "zmax = 7000\n",
    "zsamp = 7\n",
    "\n",
    "#Create coordinates:\n",
    "tco = iris.coords.DimCoord(np.linspace(tmin,tmax,tsamp), standard_name='time', units='hours since 2000-01-01 00:00')\n",
    "tco.guess_bounds()\n",
    "\n",
    "xco = iris.coords.DimCoord(np.linspace(xmin,xmax,xsamp), standard_name='longitude', units='degree')\n",
    "xco.guess_bounds()\n",
    "\n",
    "yco = iris.coords.DimCoord(np.linspace(ymin,ymax,ysamp), standard_name='latitude', units='degree')\n",
    "yco.guess_bounds()\n",
    "\n",
    "zco = iris.coords.DimCoord(np.linspace(zmin,zmax,zsamp), standard_name='height', units='metres')\n",
    "zco.guess_bounds()\n",
    "\n",
    "#Create cube:\n",
    "c1 = iris.cube.Cube(fill_array(tco,xco,yco,zco), standard_name='air_temperature', units='celsius')\n",
    "c1.add_dim_coord(tco, 0)\n",
    "c1.add_dim_coord(xco, 1)\n",
    "c1.add_dim_coord(yco, 2)\n",
    "c1.add_dim_coord(zco, 3)"
   ]
  },
  {
   "cell_type": "code",
   "execution_count": null,
   "metadata": {
    "collapsed": false
   },
   "outputs": [],
   "source": [
    "#Adapted from http://scitools.org.uk/iris/docs/latest/examples/General/anomaly_log_colouring.html\n",
    "import cartopy.crs as ccrs\n",
    "import iris.coord_categorisation\n",
    "import matplotlib.pyplot as plt\n",
    "import iris.plot as iplt\n",
    "import iris.quickplot as qplt\n",
    "\n",
    "# Enable a future option, to ensure that the netcdf load works the same way\n",
    "# as in future Iris versions.\n",
    "iris.FUTURE.netcdf_promote = True\n",
    "\n",
    "# Load a sample air temperatures sequence.\n",
    "temperatures = c1\n",
    "\n",
    "# Create a year-number coordinate from the time information.\n",
    "try:\n",
    "    #If this has already beendon, iris will complain.\n",
    "    #So we ignore the complaint.\n",
    "    iris.coord_categorisation.add_year(temperatures, 'time')\n",
    "except:\n",
    "    pass\n",
    "\n",
    "# Create a sample anomaly field for one chosen year, by extracting that\n",
    "# year and subtracting the time mean.\n",
    "sample_year = 2001\n",
    "year_temperature3d = temperatures.extract(iris.Constraint(year=sample_year))\n",
    "year_temperature = year_temperature3d.collapsed(['time','height'], iris.analysis.MEAN)\n",
    "time_mean = temperatures.collapsed(['time','height'], iris.analysis.MEAN)\n",
    "anomaly = (year_temperature - time_mean)\n",
    "\n",
    "\n",
    "# Construct a plot title string explaining which years are involved.\n",
    "years = temperatures.coord('year').points\n",
    "plot_title = 'Temperature anomaly'\n",
    "plot_title += '\\n{} differences from {}-{} average.'.format(\n",
    "        sample_year, years[0], years[-1])\n",
    "\n",
    "    \n",
    "# Define scaling levels for the logarithmic colouring.\n",
    "minimum_level = 0.0\n",
    "maximum_level = 30\n",
    "\n",
    "# Create an Axes, specifying the map projection.\n",
    "plt.axes(projection=ccrs.Mollweide())\n",
    "#plt.axes(projection=ccrs.Stereographic())\n",
    "\n",
    "# Make a pseudocolour plot using this colour scheme.\n",
    "# Use a standard colour map which varies blue-white-red.\n",
    "# For suitable options, see the 'Diverging colormaps' section in:\n",
    "# http://matplotlib.org/examples/color/colormaps_reference.html\n",
    "anom_cmap = 'bwr'\n",
    "mesh = iplt.pcolormesh(anomaly, cmap=anom_cmap)\n",
    "\n",
    "# Add a colourbar, with extensions to show handling of out-of-range values.\n",
    "#bar = plt.colorbar(mesh, orientation='horizontal', extend='both')\n",
    "\n",
    "# Set some suitable fixed \"logarithmic\" colourbar tick positions.\n",
    "#tick_levels = [-3, -1, -0.3, 0.0, 0.3, 1, 3]\n",
    "#bar.set_ticks(tick_levels)\n",
    "\n",
    "# Modify the tick labels so that the centre one shows \"+/-<minumum-level>\".\n",
    "#tick_levels[3] = r'$\\pm${:g}'.format(minimum_level)\n",
    "#bar.set_ticklabels(tick_levels)\n",
    "\n",
    "# Label the colourbar to show the units.\n",
    "#bar.set_label('[{}]'.format(anomaly.units))\n",
    "\n",
    "# Add coastlines and a title.\n",
    "plt.gca().coastlines()\n",
    "plt.title(plot_title)\n",
    "\n",
    "# Display the result.\n",
    "iplt.show()\n"
   ]
  }
 ],
 "metadata": {
  "kernelspec": {
   "display_name": "Python 3",
   "language": "python",
   "name": "python3"
  },
  "language_info": {
   "codemirror_mode": {
    "name": "ipython",
    "version": 3
   },
   "file_extension": ".py",
   "mimetype": "text/x-python",
   "name": "python",
   "nbconvert_exporter": "python",
   "pygments_lexer": "ipython3",
   "version": "3.4.5"
  }
 },
 "nbformat": 4,
 "nbformat_minor": 0
}
