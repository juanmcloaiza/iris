{
 "cells": [
  {
   "cell_type": "code",
   "execution_count": 1,
   "metadata": {
    "collapsed": false
   },
   "outputs": [],
   "source": [
    "import utils as ui ##needed to import my iris\n",
    "import iris\n",
    "import numpy as np\n",
    "import time\n",
    "import os\n",
    "import sys"
   ]
  },
  {
   "cell_type": "code",
   "execution_count": 2,
   "metadata": {
    "collapsed": true
   },
   "outputs": [],
   "source": [
    "def fill_array(tc,xc,yc,zc):\n",
    "    valmax = 30\n",
    "    valmin = 0\n",
    "    zmin = min(zc.points)\n",
    "    zmax = max(zc.points)\n",
    "\n",
    "    t = (tc.points/(365.*24.))*(2.*np.pi)\n",
    "    x = (xc.points/360.) *(2.*np.pi)\n",
    "    y = (yc.points/360.) *(2.*np.pi)\n",
    "    z = (zc.points - zmax)/(zmax-zmin) \n",
    "    \n",
    "    #temp = (valmax-valmin) * np.einsum('i,j,k,l',1+0.*np.sin(t), np.sin(x), np.cos(y), 1+0.*z)\n",
    "    temp = (valmax-valmin) * np.einsum('i,j,k,l', np.sin(t), np.sin(x), np.cos(y), z)\n",
    "\n",
    "    return temp"
   ]
  },
  {
   "cell_type": "code",
   "execution_count": 3,
   "metadata": {
    "collapsed": true
   },
   "outputs": [],
   "source": [
    "#!/usr/bin/env python\n",
    "import iris\n",
    "import numpy as np\n",
    "iris.FUTURE.netcdf_no_unlimited = True\n",
    "\n",
    "#t coordinate in hours: 8760 ~ 1yr\n",
    "def generate_cube(tmin = 1, tmax = 24*7,tsamp = 24*7,\n",
    "                xmin = -179, xmax = 180, xsamp = 360,\n",
    "                ymin = -89, ymax = 89, ysamp = 178,\n",
    "                zmin = 0, zmax = 7000, zsamp = 2):\n",
    "\n",
    "    #Create coordinates:\n",
    "    tco = iris.coords.DimCoord(np.linspace(tmin,tmax,tsamp), standard_name='time', units='hours since 2000-01-01 00:00')\n",
    "    tco.guess_bounds()\n",
    "\n",
    "    xco = iris.coords.DimCoord(np.linspace(xmin,xmax,xsamp), standard_name='longitude', units='degree')\n",
    "    xco.guess_bounds()\n",
    "\n",
    "    yco = iris.coords.DimCoord(np.linspace(ymin,ymax,ysamp), standard_name='latitude', units='degree')\n",
    "    yco.guess_bounds()\n",
    "\n",
    "    zco = iris.coords.DimCoord(np.linspace(zmin,zmax,zsamp), standard_name='height', units='metres')\n",
    "    zco.guess_bounds()\n",
    "\n",
    "    #Create cube:\n",
    "    c1 = iris.cube.Cube(fill_array(tco,xco,yco,zco), standard_name='air_temperature', units='celsius')\n",
    "    c1.add_dim_coord(tco, 0)\n",
    "    c1.add_dim_coord(xco, 1)\n",
    "    c1.add_dim_coord(yco, 2)\n",
    "    c1.add_dim_coord(zco, 3)\n",
    "\n",
    "    cube = c1\n",
    "    return cube"
   ]
  },
  {
   "cell_type": "code",
   "execution_count": null,
   "metadata": {
    "collapsed": false
   },
   "outputs": [],
   "source": [
    "def my_plot(some_cube):\n",
    "\n",
    "#PLOT\n",
    "#Adapted from http://scitools.org.uk/iris/docs/latest/examples/General/anomaly_log_colouring.html\n",
    "\n",
    "    # Construct a plot title\n",
    "    plot_title = some_cube.name()\n",
    "    \n",
    "\n",
    "\n",
    "    # Create an Axes, specifying the map projection.\n",
    "    plt.axes(projection=ccrs.Mollweide())\n",
    "    #plt.axes(projection=ccrs.Stereographic())\n",
    "\n",
    "    # Make a pseudocolour plot using this colour scheme.\n",
    "    # Use a standard colour map which varies blue-white-red.\n",
    "    # For suitable options, see the 'Diverging colormaps' section in:\n",
    "    # http://matplotlib.org/examples/color/colormaps_reference.html\n",
    "    anom_cmap = 'bwr'\n",
    "    mesh = iplt.pcolormesh(some_cube, cmap=anom_cmap)\n",
    "\n",
    "    # Add a colourbar, with extensions to show handling of out-of-range values.\n",
    "    bar = plt.colorbar(mesh, orientation='horizontal', extend='both')\n",
    "\n",
    "    # Set some suitable fixed \"logarithmic\" colourbar tick positions.\n",
    "    #tick_levels = [-3, -2, -1, 0.0, 1, 2, 3]\n",
    "    #bar.set_ticks(tick_levels)\n",
    "\n",
    "    # Modify the tick labels so that the centre one shows \"+/-<minumum-level>\".        \n",
    "    #minimum_level = 0.0\n",
    "    #maximum_level = 30\n",
    "    #tick_levels[3] = r'$\\pm${:g}'.format(minimum_level)\n",
    "    #bar.set_ticklabels(tick_levels)\n",
    "\n",
    "    # Label the colourbar to show the units.\n",
    "    bar.set_label('[{}]'.format(time_mean.units))\n",
    "\n",
    "    # Add coastlines and a title.\n",
    "    plt.gca().coastlines()\n",
    "    plt.title(plot_title)\n",
    "\n",
    "    # Display the result.\n",
    "    iplt.show()\n"
   ]
  },
  {
   "cell_type": "code",
   "execution_count": null,
   "metadata": {
    "collapsed": false
   },
   "outputs": [],
   "source": [
    "#TEST: CALCULATE THE MEAN\n",
    "import cartopy.crs as ccrs\n",
    "import iris.coord_categorisation\n",
    "import matplotlib.pyplot as plt\n",
    "import iris.plot as iplt\n",
    "import iris.quickplot as qplt\n",
    "\n",
    "# Enable a future option, to ensure that the netcdf load works the same way\n",
    "# as in future Iris versions.\n",
    "iris.FUTURE.netcdf_promote = True\n",
    "\n",
    "# Load a sample air temperatures sequence.\n",
    "temperatures = generate_cube(tmin = 24, tmax = 24*7,tsamp = 24*7,\n",
    "                xmin = -170, xmax = 170, xsamp = 36,\n",
    "                ymin = -80, ymax = 80, ysamp = 18,\n",
    "                zmin = 0, zmax = 7000, zsamp = 2)\n",
    "\n",
    "\n",
    "# Calculate the mean:\n",
    "time_mean = temperatures.collapsed(['time','height'], iris.analysis.MEAN)\n",
    "\n",
    "# Plot:\n",
    "my_plot(time_mean)"
   ]
  },
  {
   "cell_type": "code",
   "execution_count": null,
   "metadata": {
    "collapsed": false
   },
   "outputs": [],
   "source": [
    "#TEST CONCATENATION AND THEN MEAN\n",
    "\n",
    "#Each cube will span from t_a[i] to t_b[i] with t_num_samp in between\n",
    "#Total span of the cubes: t_a[0] to t_b[-1]\n",
    "\n",
    "t_a = range(1 , 24*800-23,24)\n",
    "t_b = range(24, 24*800,24)\n",
    "t_num_samp = 24\n",
    "\n",
    "cubes = []\n",
    "for t_init,t_end in zip(t_a,t_b):\n",
    "    #print(t_init,t_end)\n",
    "    cubes.append(generate_cube(tmin = t_init, tmax = t_end,tsamp = t_num_samp,\n",
    "                xmin = -170, xmax = 170, xsamp = 36,\n",
    "                ymin = -80, ymax = 80, ysamp = 18,\n",
    "                zmin = 0, zmax = 7000, zsamp = 2))\n",
    "\n",
    "loaded_cubes = iris.cube.CubeList(cubes)\n",
    "\n",
    "disordered = iris.cube.CubeList([loaded_cubes[6],loaded_cubes[0], loaded_cubes[5],loaded_cubes[1],\n",
    "              loaded_cubes[4],loaded_cubes[2], loaded_cubes[3]])\n",
    "\n",
    "concatenated = disordered.concatenate()\n",
    "print(concatenated)\n",
    "\n",
    "concatenated = loaded_cubes.concatenate()\n",
    "print(concatenated)\n",
    "\n",
    "concat_mean = concatenated[0].collapsed(['time','height'], iris.analysis.MEAN)\n",
    "\n",
    "# Plot:\n",
    "my_plot(concat_mean)"
   ]
  },
  {
   "cell_type": "code",
   "execution_count": null,
   "metadata": {
    "collapsed": false
   },
   "outputs": [],
   "source": [
    "#TEST MEAN AND THEN CONCATENATION\n",
    "\n",
    "#Each cube will span from t_a[i] to t_b[i] with t_num_samp in between\n",
    "#Total span of the cubes: t_a[0] to t_b[-1]\n",
    "\n",
    "t_a = range(1 , 24*800-23,24)\n",
    "t_b = range(24, 24*800,24)\n",
    "t_num_samp = 24\n",
    "\n",
    "cubes = []\n",
    "for t_init,t_end in zip(t_a,t_b):\n",
    "    #print(t_init,t_end)\n",
    "    cubes.append(generate_cube(tmin = t_init, tmax = t_end,tsamp = t_num_samp,\n",
    "                xmin = -170, xmax = 170, xsamp = 36,\n",
    "                ymin = -80, ymax = 80, ysamp = 18,\n",
    "                zmin = 0, zmax = 7000, zsamp = 2).collapsed(['time','height'], iris.analysis.MEAN))\n",
    "\n",
    "loaded_cubes = iris.cube.CubeList(cubes)\n",
    "merged_cubes = loaded_cubes.merge()\n",
    "print(merged_cubes)\n",
    "mean_merge_mean = merged_cubes[0].collapsed(['time','height'], iris.analysis.MEAN)\n",
    "my_plot(mean_merge_mean)"
   ]
  },
  {
   "cell_type": "code",
   "execution_count": null,
   "metadata": {
    "collapsed": false
   },
   "outputs": [],
   "source": [
    "print(concat_mean)"
   ]
  },
  {
   "cell_type": "code",
   "execution_count": null,
   "metadata": {
    "collapsed": false
   },
   "outputs": [],
   "source": [
    "iris.save(mean_merge_mean,'./shitload_of_data/mean_merge_mean.nc')\n",
    "iris.save(concat_mean,'./shitload_of_data/concat_mean.nc')"
   ]
  },
  {
   "cell_type": "code",
   "execution_count": null,
   "metadata": {
    "collapsed": false
   },
   "outputs": [],
   "source": [
    "#Save cubes after applying the mean - This simulates what we have after the map phase\n",
    "\n",
    "#Each cube will span from t_a[i] to t_b[i] with t_num_samp in between\n",
    "#Total span of the cubes: t_a[0] to t_b[-1]\n",
    "\n",
    "t_a = range(1 , 24*701-23,24)\n",
    "t_b = range(24, 24*701,24)\n",
    "t_num_samp = 24\n",
    "\n",
    "cubes = []\n",
    "i=0\n",
    "for t_init,t_end in zip(t_a,t_b):\n",
    "    #print(t_init,t_end)\n",
    "    i += 1\n",
    "    cube = generate_cube(tmin = t_init, tmax = t_end,tsamp = t_num_samp,\n",
    "                xmin = -170, xmax = 170, xsamp = 36,\n",
    "                ymin = -80, ymax = 80, ysamp = 18,\n",
    "                zmin = 0, zmax = 7000, zsamp = 2).collapsed(['time','height'], iris.analysis.MEAN)\n",
    "    iris.save(cube,'./shitload_of_data/mean_cube_'+str(i)+'.nc')\n"
   ]
  },
  {
   "cell_type": "code",
   "execution_count": null,
   "metadata": {
    "collapsed": false
   },
   "outputs": [],
   "source": [
    "#Make sure that all these loads are merged in one single cube:\n",
    "\n",
    "cubes1 = iris.load('./shitload_of_data/mean_cube_1*.nc')\n",
    "cubes2 = iris.load('./shitload_of_data/mean_cube_2*.nc')\n",
    "cubes3 = iris.load('./shitload_of_data/mean_cube_3*.nc')\n",
    "cubes4 = iris.load('./shitload_of_data/mean_cube_4*.nc')\n",
    "cubes5 = iris.load('./shitload_of_data/mean_cube_5*.nc')\n",
    "cubes6 = iris.load('./shitload_of_data/mean_cube_6*.nc')\n",
    "cubes7 = iris.load('./shitload_of_data/mean_cube_7*.nc')\n",
    "cubes8 = iris.load('./shitload_of_data/mean_cube_8*.nc')\n",
    "cubes9 = iris.load('./shitload_of_data/mean_cube_9*.nc')\n",
    "cubes = iris.cube.CubeList(cubes1+cubes2+cubes3+cubes4+cubes5+cubes6+cubes7+cubes8+cubes9)\n",
    "print(\"Not correct:\")\n",
    "print(cubes.concatenate())\n",
    "\n",
    "print(\"Correct:\")\n",
    "slices = []\n",
    "for cube in cubes:\n",
    "    for yx_slice in cube.slices(['latitude', 'longitude']):\n",
    "        slices.append(yx_slice)\n",
    "\n",
    "new_cubes = iris.cube.CubeList(slices)\n",
    "\n",
    "print(new_cubes.merge())\n",
    "iris.save(new_cubes[0],'./shitload_of_data/new_cube.nc')\n",
    "my_plot(new_cubes[0])"
   ]
  },
  {
   "cell_type": "code",
   "execution_count": 5,
   "metadata": {
    "collapsed": false
   },
   "outputs": [
    {
     "name": "stdout",
     "output_type": "stream",
     "text": [
      "3 10 10 2\n",
      "600\n",
      "1\n",
      "files saved\n"
     ]
    }
   ],
   "source": [
    "#GENERATE DATA\n",
    "#BE SURE THAT THE DATA IS MERGEABLE:\n",
    "import numpy as np\n",
    "hours_in_a_day = 24\n",
    "n_days = 3\n",
    "\n",
    "#Cubes will be generated in this range:\n",
    "t0_glob = 1\n",
    "tmax_glob = hours_in_a_day * (n_days)\n",
    "dt_glob = 1 * hours_in_a_day\n",
    "\n",
    "#Each single cube will have these number of samples and delta t locally:\n",
    "t_num_samp = 8\n",
    "dt_loc = dt_glob / t_num_samp\n",
    "\n",
    "#These are the arrays which will contain t_init and t_max for each cube\n",
    "t_a = np.arange( t0_glob, tmax_glob - dt_glob + dt_loc,  dt_glob )\n",
    "t_b = np.arange( t0_glob + dt_glob - dt_loc, tmax_glob, dt_glob )\n",
    "\n",
    "#We repeat what we did for the time for the rest of the coordinates:\n",
    "\n",
    "###X\n",
    "x0_glob = -179\n",
    "xmax_glob = 180\n",
    "dx_glob = 35#10\n",
    "\n",
    "x_num_samp = 10\n",
    "dx_loc = dx_glob / x_num_samp\n",
    "\n",
    "x_a = np.arange( x0_glob, xmax_glob - dx_glob + dx_loc,  dx_glob )\n",
    "x_b = np.arange( x0_glob + dx_glob - dx_loc, xmax_glob, dx_glob )\n",
    "\n",
    "###Y\n",
    "y0_glob = -89\n",
    "ymax_glob = 89\n",
    "dy_glob = 17#10\n",
    "\n",
    "y_num_samp = 10\n",
    "dy_loc = dy_glob / y_num_samp\n",
    "\n",
    "y_a = np.arange( y0_glob, ymax_glob - dy_glob + dy_loc,  dy_glob )\n",
    "y_b = np.arange( y0_glob + dy_glob - dy_loc, ymax_glob, dy_glob )\n",
    "\n",
    "###Z\n",
    "z0_glob = 1\n",
    "zmax_glob = 120\n",
    "dz_glob = 60#10\n",
    "\n",
    "z_num_samp = 10\n",
    "dz_loc = dz_glob / z_num_samp\n",
    "\n",
    "z_a = np.arange( z0_glob, zmax_glob - dz_glob + dz_loc,  dz_glob )\n",
    "z_b = np.arange( z0_glob + dz_glob - dz_loc, zmax_glob, dz_glob )\n",
    "\n",
    "\n",
    "cubes = []\n",
    "tcubes = len(t_a)\n",
    "xcubes = len(x_a)\n",
    "ycubes = len(y_a)\n",
    "zcubes = len(z_a)\n",
    "for t_init,t_end in zip(t_a,t_b):\n",
    "    \n",
    "    for x_init,x_end in zip(x_a,x_b):\n",
    "    \n",
    "        for y_init,y_end in zip(y_a,y_b):\n",
    "            \n",
    "            for z_init,z_end in zip(z_a,z_b):\n",
    "    \n",
    "                cubes.append(generate_cube(tmin = t_init, tmax = t_end,tsamp = t_num_samp,\n",
    "                                           xmin = x_init, xmax = x_end,xsamp = x_num_samp,\n",
    "                                           ymin = y_init, ymax = y_end,ysamp = y_num_samp,\n",
    "                                           zmin = z_init, zmax = z_end,zsamp = z_num_samp))\n",
    "            \n",
    "print(tcubes,xcubes,ycubes,zcubes)\n",
    "cubelist = iris.cube.CubeList(cubes)\n",
    "print(len(cubelist))\n",
    "print(len(cubelist.concatenate()))\n",
    "for i in range(len(cubelist)):\n",
    "    iris.save(cubelist[i],\"./shitload_of_data/file_{:04d}.nc\".format(i))\n",
    "print(\"files saved\")"
   ]
  },
  {
   "cell_type": "code",
   "execution_count": 6,
   "metadata": {
    "collapsed": false,
    "scrolled": true
   },
   "outputs": [
    {
     "name": "stdout",
     "output_type": "stream",
     "text": [
      "./mapper_output_dir//map_file_0000.nc./mapper_output_dir//map_file_0001.nc./mapper_output_dir//map_file_0002.nc./mapper_output_dir//map_file_0003.nc./mapper_output_dir//map_file_0004.nc./mapper_output_dir//map_file_0005.nc./mapper_output_dir//map_file_0006.nc./mapper_output_dir//map_file_0007.nc./mapper_output_dir//map_file_0008.nc./mapper_output_dir//map_file_0009.nc./mapper_output_dir//map_file_0010.nc./mapper_output_dir//map_file_0011.nc./mapper_output_dir//map_file_0012.nc./mapper_output_dir//map_file_0013.nc./mapper_output_dir//map_file_0014.nc./mapper_output_dir//map_file_0015.nc./mapper_output_dir//map_file_0016.nc./mapper_output_dir//map_file_0017.nc./mapper_output_dir//map_file_0018.nc./mapper_output_dir//map_file_0019.nc./mapper_output_dir//map_file_0020.nc./mapper_output_dir//map_file_0021.nc./mapper_output_dir//map_file_0022.nc./mapper_output_dir//map_file_0023.nc./mapper_output_dir//map_file_0024.nc./mapper_output_dir//map_file_0025.nc./mapper_output_dir//map_file_0026.nc./mapper_output_dir//map_file_0027.nc./mapper_output_dir//map_file_0028.nc./mapper_output_dir//map_file_0029.nc./mapper_output_dir//map_file_0030.nc./mapper_output_dir//map_file_0031.nc./mapper_output_dir//map_file_0032.nc./mapper_output_dir//map_file_0033.nc./mapper_output_dir//map_file_0034.nc./mapper_output_dir//map_file_0035.nc./mapper_output_dir//map_file_0036.nc./mapper_output_dir//map_file_0037.nc./mapper_output_dir//map_file_0038.nc./mapper_output_dir//map_file_0039.nc./mapper_output_dir//map_file_0040.nc./mapper_output_dir//map_file_0041.nc./mapper_output_dir//map_file_0042.nc./mapper_output_dir//map_file_0043.nc./mapper_output_dir//map_file_0044.nc./mapper_output_dir//map_file_0045.nc./mapper_output_dir//map_file_0046.nc./mapper_output_dir//map_file_0047.nc./mapper_output_dir//map_file_0048.nc./mapper_output_dir//map_file_0049.nc./mapper_output_dir//map_file_0050.nc./mapper_output_dir//map_file_0051.nc./mapper_output_dir//map_file_0052.nc./mapper_output_dir//map_file_0053.nc./mapper_output_dir//map_file_0054.nc./mapper_output_dir//map_file_0055.nc./mapper_output_dir//map_file_0056.nc./mapper_output_dir//map_file_0057.nc./mapper_output_dir//map_file_0058.nc./mapper_output_dir//map_file_0059.nc./mapper_output_dir//map_file_0060.nc./mapper_output_dir//map_file_0061.nc./mapper_output_dir//map_file_0062.nc./mapper_output_dir//map_file_0063.nc./mapper_output_dir//map_file_0064.nc./mapper_output_dir//map_file_0065.nc./mapper_output_dir//map_file_0066.nc./mapper_output_dir//map_file_0067.nc./mapper_output_dir//map_file_0068.nc./mapper_output_dir//map_file_0069.nc./mapper_output_dir//map_file_0070.nc./mapper_output_dir//map_file_0071.nc./mapper_output_dir//map_file_0072.nc./mapper_output_dir//map_file_0073.nc./mapper_output_dir//map_file_0074.nc./mapper_output_dir//map_file_0075.nc./mapper_output_dir//map_file_0076.nc./mapper_output_dir//map_file_0077.nc./mapper_output_dir//map_file_0078.nc./mapper_output_dir//map_file_0079.nc./mapper_output_dir//map_file_0080.nc./mapper_output_dir//map_file_0081.nc./mapper_output_dir//map_file_0082.nc./mapper_output_dir//map_file_0083.nc./mapper_output_dir//map_file_0084.nc./mapper_output_dir//map_file_0085.nc./mapper_output_dir//map_file_0086.nc./mapper_output_dir//map_file_0087.nc./mapper_output_dir//map_file_0088.nc./mapper_output_dir//map_file_0089.nc./mapper_output_dir//map_file_0090.nc./mapper_output_dir//map_file_0091.nc./mapper_output_dir//map_file_0092.nc./mapper_output_dir//map_file_0093.nc./mapper_output_dir//map_file_0094.nc./mapper_output_dir//map_file_0095.nc./mapper_output_dir//map_file_0096.nc./mapper_output_dir//map_file_0097.nc./mapper_output_dir//map_file_0098.nc./mapper_output_dir//map_file_0099.nc./mapper_output_dir//map_file_0100.nc./mapper_output_dir//map_file_0101.nc./mapper_output_dir//map_file_0102.nc./mapper_output_dir//map_file_0103.nc./mapper_output_dir//map_file_0104.nc./mapper_output_dir//map_file_0105.nc./mapper_output_dir//map_file_0106.nc./mapper_output_dir//map_file_0107.nc./mapper_output_dir//map_file_0108.nc./mapper_output_dir//map_file_0109.nc./mapper_output_dir//map_file_0110.nc./mapper_output_dir//map_file_0111.nc./mapper_output_dir//map_file_0112.nc./mapper_output_dir//map_file_0113.nc./mapper_output_dir//map_file_0114.nc./mapper_output_dir//map_file_0115.nc./mapper_output_dir//map_file_0116.nc./mapper_output_dir//map_file_0117.nc./mapper_output_dir//map_file_0118.nc./mapper_output_dir//map_file_0119.nc./mapper_output_dir//map_file_0120.nc./mapper_output_dir//map_file_0121.nc./mapper_output_dir//map_file_0122.nc./mapper_output_dir//map_file_0123.nc./mapper_output_dir//map_file_0124.nc./mapper_output_dir//map_file_0125.nc./mapper_output_dir//map_file_0126.nc./mapper_output_dir//map_file_0127.nc./mapper_output_dir//map_file_0128.nc./mapper_output_dir//map_file_0129.nc./mapper_output_dir//map_file_0130.nc./mapper_output_dir//map_file_0131.nc./mapper_output_dir//map_file_0132.nc./mapper_output_dir//map_file_0133.nc./mapper_output_dir//map_file_0134.nc./mapper_output_dir//map_file_0135.nc./mapper_output_dir//map_file_0136.nc./mapper_output_dir//map_file_0137.nc./mapper_output_dir//map_file_0138.nc./mapper_output_dir//map_file_0139.nc./mapper_output_dir//map_file_0140.nc./mapper_output_dir//map_file_0141.nc./mapper_output_dir//map_file_0142.nc./mapper_output_dir//map_file_0143.nc./mapper_output_dir//map_file_0144.nc./mapper_output_dir//map_file_0145.nc./mapper_output_dir//map_file_0146.nc./mapper_output_dir//map_file_0147.nc./mapper_output_dir//map_file_0148.nc./mapper_output_dir//map_file_0149.nc./mapper_output_dir//map_file_0150.nc./mapper_output_dir//map_file_0151.nc./mapper_output_dir//map_file_0152.nc./mapper_output_dir//map_file_0153.nc./mapper_output_dir//map_file_0154.nc./mapper_output_dir//map_file_0155.nc./mapper_output_dir//map_file_0156.nc./mapper_output_dir//map_file_0157.nc./mapper_output_dir//map_file_0158.nc./mapper_output_dir//map_file_0159.nc./mapper_output_dir//map_file_0160.nc./mapper_output_dir//map_file_0161.nc./mapper_output_dir//map_file_0162.nc./mapper_output_dir//map_file_0163.nc./mapper_output_dir//map_file_0164.nc./mapper_output_dir//map_file_0165.nc./mapper_output_dir//map_file_0166.nc./mapper_output_dir//map_file_0167.nc./mapper_output_dir//map_file_0168.nc./mapper_output_dir//map_file_0169.nc./mapper_output_dir//map_file_0170.nc./mapper_output_dir//map_file_0171.nc./mapper_output_dir//map_file_0172.nc./mapper_output_dir//map_file_0173.nc./mapper_output_dir//map_file_0174.nc./mapper_output_dir//map_file_0175.nc./mapper_output_dir//map_file_0176.nc./mapper_output_dir//map_file_0177.nc./mapper_output_dir//map_file_0178.nc./mapper_output_dir//map_file_0179.nc./mapper_output_dir//map_file_0180.nc./mapper_output_dir//map_file_0181.nc./mapper_output_dir//map_file_0182.nc./mapper_output_dir//map_file_0183.nc./mapper_output_dir//map_file_0184.nc./mapper_output_dir//map_file_0185.nc./mapper_output_dir//map_file_0186.nc./mapper_output_dir//map_file_0187.nc./mapper_output_dir//map_file_0188.nc./mapper_output_dir//map_file_0189.nc./mapper_output_dir//map_file_0190.nc./mapper_output_dir//map_file_0191.nc./mapper_output_dir//map_file_0192.nc./mapper_output_dir//map_file_0193.nc./mapper_output_dir//map_file_0194.nc./mapper_output_dir//map_file_0195.nc./mapper_output_dir//map_file_0196.nc./mapper_output_dir//map_file_0197.nc./mapper_output_dir//map_file_0198.nc./mapper_output_dir//map_file_0199.nc./mapper_output_dir//map_file_0200.nc./mapper_output_dir//map_file_0201.nc./mapper_output_dir//map_file_0202.nc./mapper_output_dir//map_file_0203.nc./mapper_output_dir//map_file_0204.nc./mapper_output_dir//map_file_0205.nc./mapper_output_dir//map_file_0206.nc./mapper_output_dir//map_file_0207.nc./mapper_output_dir//map_file_0208.nc./mapper_output_dir//map_file_0209.nc./mapper_output_dir//map_file_0210.nc./mapper_output_dir//map_file_0211.nc./mapper_output_dir//map_file_0212.nc./mapper_output_dir//map_file_0213.nc./mapper_output_dir//map_file_0214.nc./mapper_output_dir//map_file_0215.nc./mapper_output_dir//map_file_0216.nc./mapper_output_dir//map_file_0217.nc./mapper_output_dir//map_file_0218.nc./mapper_output_dir//map_file_0219.nc./mapper_output_dir//map_file_0220.nc./mapper_output_dir//map_file_0221.nc./mapper_output_dir//map_file_0222.nc./mapper_output_dir//map_file_0223.nc./mapper_output_dir//map_file_0224.nc./mapper_output_dir//map_file_0225.nc./mapper_output_dir//map_file_0226.nc./mapper_output_dir//map_file_0227.nc./mapper_output_dir//map_file_0228.nc./mapper_output_dir//map_file_0229.nc./mapper_output_dir//map_file_0230.nc./mapper_output_dir//map_file_0231.nc./mapper_output_dir//map_file_0232.nc./mapper_output_dir//map_file_0233.nc./mapper_output_dir//map_file_0234.nc./mapper_output_dir//map_file_0235.nc./mapper_output_dir//map_file_0236.nc./mapper_output_dir//map_file_0237.nc./mapper_output_dir//map_file_0238.nc./mapper_output_dir//map_file_0239.nc./mapper_output_dir//map_file_0240.nc./mapper_output_dir//map_file_0241.nc./mapper_output_dir//map_file_0242.nc./mapper_output_dir//map_file_0243.nc./mapper_output_dir//map_file_0244.nc./mapper_output_dir//map_file_0245.nc./mapper_output_dir//map_file_0246.nc./mapper_output_dir//map_file_0247.nc./mapper_output_dir//map_file_0248.nc./mapper_output_dir//map_file_0249.nc./mapper_output_dir//map_file_0250.nc./mapper_output_dir//map_file_0251.nc./mapper_output_dir//map_file_0252.nc./mapper_output_dir//map_file_0253.nc./mapper_output_dir//map_file_0254.nc./mapper_output_dir//map_file_0255.nc./mapper_output_dir//map_file_0256.nc./mapper_output_dir//map_file_0257.nc./mapper_output_dir//map_file_0258.nc./mapper_output_dir//map_file_0259.nc./mapper_output_dir//map_file_0260.nc./mapper_output_dir//map_file_0261.nc./mapper_output_dir//map_file_0262.nc./mapper_output_dir//map_file_0263.nc./mapper_output_dir//map_file_0264.nc./mapper_output_dir//map_file_0265.nc./mapper_output_dir//map_file_0266.nc./mapper_output_dir//map_file_0267.nc./mapper_output_dir//map_file_0268.nc./mapper_output_dir//map_file_0269.nc./mapper_output_dir//map_file_0270.nc./mapper_output_dir//map_file_0271.nc./mapper_output_dir//map_file_0272.nc./mapper_output_dir//map_file_0273.nc./mapper_output_dir//map_file_0274.nc./mapper_output_dir//map_file_0275.nc./mapper_output_dir//map_file_0276.nc./mapper_output_dir//map_file_0277.nc./mapper_output_dir//map_file_0278.nc./mapper_output_dir//map_file_0279.nc./mapper_output_dir//map_file_0280.nc./mapper_output_dir//map_file_0281.nc./mapper_output_dir//map_file_0282.nc./mapper_output_dir//map_file_0283.nc./mapper_output_dir//map_file_0284.nc./mapper_output_dir//map_file_0285.nc./mapper_output_dir//map_file_0286.nc./mapper_output_dir//map_file_0287.nc./mapper_output_dir//map_file_0288.nc./mapper_output_dir//map_file_0289.nc./mapper_output_dir//map_file_0290.nc./mapper_output_dir//map_file_0291.nc./mapper_output_dir//map_file_0292.nc./mapper_output_dir//map_file_0293.nc./mapper_output_dir//map_file_0294.nc./mapper_output_dir//map_file_0295.nc./mapper_output_dir//map_file_0296.nc./mapper_output_dir//map_file_0297.nc./mapper_output_dir//map_file_0298.nc./mapper_output_dir//map_file_0299.nc./mapper_output_dir//map_file_0300.nc./mapper_output_dir//map_file_0301.nc./mapper_output_dir//map_file_0302.nc./mapper_output_dir//map_file_0303.nc./mapper_output_dir//map_file_0304.nc./mapper_output_dir//map_file_0305.nc./mapper_output_dir//map_file_0306.nc./mapper_output_dir//map_file_0307.nc./mapper_output_dir//map_file_0308.nc./mapper_output_dir//map_file_0309.nc./mapper_output_dir//map_file_0310.nc./mapper_output_dir//map_file_0311.nc./mapper_output_dir//map_file_0312.nc./mapper_output_dir//map_file_0313.nc./mapper_output_dir//map_file_0314.nc./mapper_output_dir//map_file_0315.nc./mapper_output_dir//map_file_0316.nc./mapper_output_dir//map_file_0317.nc./mapper_output_dir//map_file_0318.nc./mapper_output_dir//map_file_0319.nc./mapper_output_dir//map_file_0320.nc./mapper_output_dir//map_file_0321.nc./mapper_output_dir//map_file_0322.nc./mapper_output_dir//map_file_0323.nc./mapper_output_dir//map_file_0324.nc./mapper_output_dir//map_file_0325.nc./mapper_output_dir//map_file_0326.nc./mapper_output_dir//map_file_0327.nc./mapper_output_dir//map_file_0328.nc./mapper_output_dir//map_file_0329.nc./mapper_output_dir//map_file_0330.nc./mapper_output_dir//map_file_0331.nc./mapper_output_dir//map_file_0332.nc./mapper_output_dir//map_file_0333.nc./mapper_output_dir//map_file_0334.nc./mapper_output_dir//map_file_0335.nc./mapper_output_dir//map_file_0336.nc./mapper_output_dir//map_file_0337.nc./mapper_output_dir//map_file_0338.nc./mapper_output_dir//map_file_0339.nc./mapper_output_dir//map_file_0340.nc./mapper_output_dir//map_file_0341.nc./mapper_output_dir//map_file_0342.nc./mapper_output_dir//map_file_0343.nc./mapper_output_dir//map_file_0344.nc./mapper_output_dir//map_file_0345.nc./mapper_output_dir//map_file_0346.nc./mapper_output_dir//map_file_0347.nc./mapper_output_dir//map_file_0348.nc./mapper_output_dir//map_file_0349.nc./mapper_output_dir//map_file_0350.nc./mapper_output_dir//map_file_0351.nc./mapper_output_dir//map_file_0352.nc./mapper_output_dir//map_file_0353.nc./mapper_output_dir//map_file_0354.nc./mapper_output_dir//map_file_0355.nc./mapper_output_dir//map_file_0356.nc./mapper_output_dir//map_file_0357.nc./mapper_output_dir//map_file_0358.nc./mapper_output_dir//map_file_0359.nc./mapper_output_dir//map_file_0360.nc./mapper_output_dir//map_file_0361.nc./mapper_output_dir//map_file_0362.nc./mapper_output_dir//map_file_0363.nc./mapper_output_dir//map_file_0364.nc./mapper_output_dir//map_file_0365.nc./mapper_output_dir//map_file_0366.nc./mapper_output_dir//map_file_0367.nc./mapper_output_dir//map_file_0368.nc./mapper_output_dir//map_file_0369.nc./mapper_output_dir//map_file_0370.nc./mapper_output_dir//map_file_0371.nc./mapper_output_dir//map_file_0372.nc./mapper_output_dir//map_file_0373.nc./mapper_output_dir//map_file_0374.nc./mapper_output_dir//map_file_0375.nc./mapper_output_dir//map_file_0376.nc./mapper_output_dir//map_file_0377.nc./mapper_output_dir//map_file_0378.nc./mapper_output_dir//map_file_0379.nc./mapper_output_dir//map_file_0380.nc./mapper_output_dir//map_file_0381.nc./mapper_output_dir//map_file_0382.nc./mapper_output_dir//map_file_0383.nc./mapper_output_dir//map_file_0384.nc./mapper_output_dir//map_file_0385.nc./mapper_output_dir//map_file_0386.nc./mapper_output_dir//map_file_0387.nc./mapper_output_dir//map_file_0388.nc./mapper_output_dir//map_file_0389.nc./mapper_output_dir//map_file_0390.nc./mapper_output_dir//map_file_0391.nc./mapper_output_dir//map_file_0392.nc./mapper_output_dir//map_file_0393.nc./mapper_output_dir//map_file_0394.nc./mapper_output_dir//map_file_0395.nc./mapper_output_dir//map_file_0396.nc./mapper_output_dir//map_file_0397.nc./mapper_output_dir//map_file_0398.nc./mapper_output_dir//map_file_0399.nc./mapper_output_dir//map_file_0400.nc./mapper_output_dir//map_file_0401.nc./mapper_output_dir//map_file_0402.nc./mapper_output_dir//map_file_0403.nc./mapper_output_dir//map_file_0404.nc./mapper_output_dir//map_file_0405.nc./mapper_output_dir//map_file_0406.nc./mapper_output_dir//map_file_0407.nc./mapper_output_dir//map_file_0408.nc./mapper_output_dir//map_file_0409.nc./mapper_output_dir//map_file_0410.nc./mapper_output_dir//map_file_0411.nc./mapper_output_dir//map_file_0412.nc./mapper_output_dir//map_file_0413.nc./mapper_output_dir//map_file_0414.nc./mapper_output_dir//map_file_0415.nc./mapper_output_dir//map_file_0416.nc./mapper_output_dir//map_file_0417.nc./mapper_output_dir//map_file_0418.nc./mapper_output_dir//map_file_0419.nc./mapper_output_dir//map_file_0420.nc./mapper_output_dir//map_file_0421.nc./mapper_output_dir//map_file_0422.nc./mapper_output_dir//map_file_0423.nc./mapper_output_dir//map_file_0424.nc./mapper_output_dir//map_file_0425.nc./mapper_output_dir//map_file_0426.nc./mapper_output_dir//map_file_0427.nc./mapper_output_dir//map_file_0428.nc./mapper_output_dir//map_file_0429.nc./mapper_output_dir//map_file_0430.nc./mapper_output_dir//map_file_0431.nc./mapper_output_dir//map_file_0432.nc./mapper_output_dir//map_file_0433.nc./mapper_output_dir//map_file_0434.nc./mapper_output_dir//map_file_0435.nc./mapper_output_dir//map_file_0436.nc./mapper_output_dir//map_file_0437.nc./mapper_output_dir//map_file_0438.nc./mapper_output_dir//map_file_0439.nc./mapper_output_dir//map_file_0440.nc./mapper_output_dir//map_file_0441.nc./mapper_output_dir//map_file_0442.nc./mapper_output_dir//map_file_0443.nc./mapper_output_dir//map_file_0444.nc./mapper_output_dir//map_file_0445.nc./mapper_output_dir//map_file_0446.nc./mapper_output_dir//map_file_0447.nc./mapper_output_dir//map_file_0448.nc./mapper_output_dir//map_file_0449.nc./mapper_output_dir//map_file_0450.nc./mapper_output_dir//map_file_0451.nc./mapper_output_dir//map_file_0452.nc./mapper_output_dir//map_file_0453.nc./mapper_output_dir//map_file_0454.nc./mapper_output_dir//map_file_0455.nc./mapper_output_dir//map_file_0456.nc./mapper_output_dir//map_file_0457.nc./mapper_output_dir//map_file_0458.nc./mapper_output_dir//map_file_0459.nc./mapper_output_dir//map_file_0460.nc./mapper_output_dir//map_file_0461.nc./mapper_output_dir//map_file_0462.nc./mapper_output_dir//map_file_0463.nc./mapper_output_dir//map_file_0464.nc./mapper_output_dir//map_file_0465.nc./mapper_output_dir//map_file_0466.nc./mapper_output_dir//map_file_0467.nc./mapper_output_dir//map_file_0468.nc./mapper_output_dir//map_file_0469.nc./mapper_output_dir//map_file_0470.nc./mapper_output_dir//map_file_0471.nc./mapper_output_dir//map_file_0472.nc./mapper_output_dir//map_file_0473.nc./mapper_output_dir//map_file_0474.nc./mapper_output_dir//map_file_0475.nc./mapper_output_dir//map_file_0476.nc./mapper_output_dir//map_file_0477.nc./mapper_output_dir//map_file_0478.nc./mapper_output_dir//map_file_0479.nc./mapper_output_dir//map_file_0480.nc./mapper_output_dir//map_file_0481.nc./mapper_output_dir//map_file_0482.nc./mapper_output_dir//map_file_0483.nc./mapper_output_dir//map_file_0484.nc./mapper_output_dir//map_file_0485.nc./mapper_output_dir//map_file_0486.nc./mapper_output_dir//map_file_0487.nc./mapper_output_dir//map_file_0488.nc./mapper_output_dir//map_file_0489.nc./mapper_output_dir//map_file_0490.nc./mapper_output_dir//map_file_0491.nc./mapper_output_dir//map_file_0492.nc./mapper_output_dir//map_file_0493.nc./mapper_output_dir//map_file_0494.nc./mapper_output_dir//map_file_0495.nc./mapper_output_dir//map_file_0496.nc./mapper_output_dir//map_file_0497.nc./mapper_output_dir//map_file_0498.nc./mapper_output_dir//map_file_0499.nc./mapper_output_dir//map_file_0500.nc./mapper_output_dir//map_file_0501.nc./mapper_output_dir//map_file_0502.nc./mapper_output_dir//map_file_0503.nc./mapper_output_dir//map_file_0504.nc./mapper_output_dir//map_file_0505.nc./mapper_output_dir//map_file_0506.nc./mapper_output_dir//map_file_0507.nc./mapper_output_dir//map_file_0508.nc./mapper_output_dir//map_file_0509.nc./mapper_output_dir//map_file_0510.nc./mapper_output_dir//map_file_0511.nc./mapper_output_dir//map_file_0512.nc./mapper_output_dir//map_file_0513.nc./mapper_output_dir//map_file_0514.nc./mapper_output_dir//map_file_0515.nc./mapper_output_dir//map_file_0516.nc./mapper_output_dir//map_file_0517.nc./mapper_output_dir//map_file_0518.nc./mapper_output_dir//map_file_0519.nc./mapper_output_dir//map_file_0520.nc./mapper_output_dir//map_file_0521.nc./mapper_output_dir//map_file_0522.nc./mapper_output_dir//map_file_0523.nc./mapper_output_dir//map_file_0524.nc./mapper_output_dir//map_file_0525.nc./mapper_output_dir//map_file_0526.nc./mapper_output_dir//map_file_0527.nc./mapper_output_dir//map_file_0528.nc./mapper_output_dir//map_file_0529.nc./mapper_output_dir//map_file_0530.nc./mapper_output_dir//map_file_0531.nc./mapper_output_dir//map_file_0532.nc./mapper_output_dir//map_file_0533.nc./mapper_output_dir//map_file_0534.nc./mapper_output_dir//map_file_0535.nc./mapper_output_dir//map_file_0536.nc./mapper_output_dir//map_file_0537.nc./mapper_output_dir//map_file_0538.nc./mapper_output_dir//map_file_0539.nc./mapper_output_dir//map_file_0540.nc./mapper_output_dir//map_file_0541.nc./mapper_output_dir//map_file_0542.nc./mapper_output_dir//map_file_0543.nc./mapper_output_dir//map_file_0544.nc./mapper_output_dir//map_file_0545.nc./mapper_output_dir//map_file_0546.nc./mapper_output_dir//map_file_0547.nc./mapper_output_dir//map_file_0548.nc./mapper_output_dir//map_file_0549.nc./mapper_output_dir//map_file_0550.nc./mapper_output_dir//map_file_0551.nc./mapper_output_dir//map_file_0552.nc./mapper_output_dir//map_file_0553.nc./mapper_output_dir//map_file_0554.nc./mapper_output_dir//map_file_0555.nc./mapper_output_dir//map_file_0556.nc./mapper_output_dir//map_file_0557.nc./mapper_output_dir//map_file_0558.nc./mapper_output_dir//map_file_0559.nc./mapper_output_dir//map_file_0560.nc./mapper_output_dir//map_file_0561.nc./mapper_output_dir//map_file_0562.nc./mapper_output_dir//map_file_0563.nc./mapper_output_dir//map_file_0564.nc./mapper_output_dir//map_file_0565.nc./mapper_output_dir//map_file_0566.nc./mapper_output_dir//map_file_0567.nc./mapper_output_dir//map_file_0568.nc./mapper_output_dir//map_file_0569.nc./mapper_output_dir//map_file_0570.nc./mapper_output_dir//map_file_0571.nc./mapper_output_dir//map_file_0572.nc./mapper_output_dir//map_file_0573.nc./mapper_output_dir//map_file_0574.nc./mapper_output_dir//map_file_0575.nc./mapper_output_dir//map_file_0576.nc./mapper_output_dir//map_file_0577.nc./mapper_output_dir//map_file_0578.nc./mapper_output_dir//map_file_0579.nc./mapper_output_dir//map_file_0580.nc./mapper_output_dir//map_file_0581.nc./mapper_output_dir//map_file_0582.nc./mapper_output_dir//map_file_0583.nc./mapper_output_dir//map_file_0584.nc./mapper_output_dir//map_file_0585.nc./mapper_output_dir//map_file_0586.nc./mapper_output_dir//map_file_0587.nc./mapper_output_dir//map_file_0588.nc./mapper_output_dir//map_file_0589.nc./mapper_output_dir//map_file_0590.nc./mapper_output_dir//map_file_0591.nc./mapper_output_dir//map_file_0592.nc./mapper_output_dir//map_file_0593.nc./mapper_output_dir//map_file_0594.nc./mapper_output_dir//map_file_0595.nc./mapper_output_dir//map_file_0596.nc./mapper_output_dir//map_file_0597.nc./mapper_output_dir//map_file_0598.nc./mapper_output_dir//map_file_0599.ncair_temperature / (celsius)         (time: 8; longitude: 10; latitude: 10; height: 10)\n",
      "     Dimension coordinates:\n",
      "          time                           x             -             -           -\n",
      "          longitude                      -             x             -           -\n",
      "          latitude                       -             -             x           -\n",
      "          height                         -             -             -           x\n",
      "     Attributes:\n",
      "          Conventions: CF-1.5\n",
      "air_temperature / (celsius)         (longitude: 10; latitude: 10)\n",
      "     Dimension coordinates:\n",
      "          longitude                           x             -\n",
      "          latitude                            -             x\n",
      "     Scalar coordinates:\n",
      "          height: 88.0 metres, bound=(58.0, 118.0) metres\n",
      "          time: 2000-01-03 11:30:00, bound=(2000-01-02 23:30:00, 2000-01-03 23:30:00)\n",
      "     Attributes:\n",
      "          Conventions: CF-1.5\n",
      "     Cell methods:\n",
      "          mean: height, time\n"
     ]
    }
   ],
   "source": [
    "#MAP PHASE:\n",
    "#BE SURE THAT THE MEAN IS DONE PROPERLY:\n",
    "\n",
    "input_dir = \"./shitload_of_data/\"\n",
    "mapper_output_dir = \"./mapper_output_dir/\"\n",
    "\n",
    "def get_mean_height(hdfs_path,local_path,save_to):\n",
    "    the_cube = iris.load_cube(local_path)\n",
    "    mean_height = the_cube.collapsed(['height','time'], iris.analysis.MEAN)\n",
    "    iris.save(mean_height,save_to)\n",
    "    return\n",
    "\n",
    "#This is done by all nodes in the cluster in parallel:\n",
    "for root,dirs,files in os.walk(input_dir):\n",
    "    for f in files:\n",
    "        hdfs_path = \"/\".join([root,f])\n",
    "        local_path = \"/\".join([root,f])\n",
    "        save_to = mapper_output_dir+\"/\"+\"map_\"+hdfs_path.split(\"/\")[-1].rpartition(\".\")[-3]+\".nc\"\n",
    "        get_mean_height(hdfs_path,local_path,save_to)\n",
    "        sys.stdout.write(save_to)\n",
    "\n",
    "print(iris.load_cube(hdfs_path))\n",
    "print(iris.load_cube(save_to))"
   ]
  },
  {
   "cell_type": "code",
   "execution_count": 7,
   "metadata": {
    "collapsed": false,
    "scrolled": true
   },
   "outputs": [
    {
     "name": "stdout",
     "output_type": "stream",
     "text": [
      "cube list...\n",
      "merging and concatenating...\n",
      "taking the mean...\n",
      "saving...\n",
      "./reducer_output_dir/reduce_0.nc\n"
     ]
    }
   ],
   "source": [
    "reducer_output_dir = \"./reducer_output_dir\"\n",
    "\n",
    "def concatenate_and_merge(mapper_output_dir,save_to):\n",
    "\n",
    "    #Load cubes from files inside mapper output dir:\n",
    "    cubes = []\n",
    "    for root,dirs,files in os.walk(mapper_output_dir):\n",
    "        for f in files:\n",
    "            try:\n",
    "                to_load = \"/\".join([root,f])\n",
    "                cubes.append(iris.load_cube(to_load))\n",
    "                \n",
    "            except:\n",
    "                print(\"cube not loaded from {}\".format(to_load))\n",
    "                pass\n",
    "        break\n",
    "\n",
    "    #if no cubes were loaded, stop.\n",
    "    if cubes == []:\n",
    "        print(\"no files found inside {}\".format(mapper_output_dir))\n",
    "        return\n",
    "\n",
    "    #Now we have a cube list with only one value for at least one coordinate:\n",
    "    print(\"cube list...\")\n",
    "    cube_list = iris.cube.CubeList(cubes)\n",
    "    #print(\"Orig:\")\n",
    "    #print(cube_list)\n",
    "    \n",
    "    #concatenate, then merge\n",
    "    print(\"merging and concatenating...\")\n",
    "    resultant_cubes = cube_list.concatenate().merge()\n",
    "       \n",
    "    #Take one last time the mean:\n",
    "    print(\"taking the mean...\")\n",
    "    mean_cubes = [c.collapsed(['time','height'], iris.analysis.MEAN) for c in resultant_cubes]\n",
    "\n",
    "    print(\"saving...\")\n",
    "    iris.save(mean_cubes,save_to)\n",
    "    return\n",
    "\n",
    "\n",
    "save_to = reducer_output_dir+\"/reduce_0.nc\"\n",
    "    \n",
    "concatenate_and_merge(mapper_output_dir,save_to)\n",
    "\n",
    "sys.stdout.write(save_to)\n",
    "print(\"\")\n"
   ]
  },
  {
   "cell_type": "code",
   "execution_count": 9,
   "metadata": {
    "collapsed": false
   },
   "outputs": [
    {
     "name": "stdout",
     "output_type": "stream",
     "text": [
      "air_temperature / (celsius)         (longitude: 100; latitude: 100)\n",
      "     Dimension coordinates:\n",
      "          longitude                           x              -\n",
      "          latitude                            -              x\n",
      "     Scalar coordinates:\n",
      "          height: 58.0 metres, bound=(-2.0, 118.0) metres\n",
      "          time: 2000-01-02 11:30:00, bound=(1999-12-31 23:30:00, 2000-01-03 23:30:00)\n",
      "     Attributes:\n",
      "          Conventions: CF-1.5\n",
      "     Cell methods:\n",
      "          mean: height, time\n",
      "          mean: time, height\n"
     ]
    }
   ],
   "source": [
    "print(iris.load_cube(\"./reducer_output_dir/reduce_0.nc\"))"
   ]
  },
  {
   "cell_type": "code",
   "execution_count": null,
   "metadata": {
    "collapsed": true
   },
   "outputs": [],
   "source": []
  }
 ],
 "metadata": {
  "kernelspec": {
   "display_name": "Python [default]",
   "language": "python",
   "name": "python3"
  },
  "language_info": {
   "codemirror_mode": {
    "name": "ipython",
    "version": 3
   },
   "file_extension": ".py",
   "mimetype": "text/x-python",
   "name": "python",
   "nbconvert_exporter": "python",
   "pygments_lexer": "ipython3",
   "version": "3.4.5"
  }
 },
 "nbformat": 4,
 "nbformat_minor": 0
}
