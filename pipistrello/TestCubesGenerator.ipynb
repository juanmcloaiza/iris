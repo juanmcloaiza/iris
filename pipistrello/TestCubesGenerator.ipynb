{
 "cells": [
  {
   "cell_type": "code",
   "execution_count": 1,
   "metadata": {
    "collapsed": false
   },
   "outputs": [],
   "source": [
    "import utils as ui ##needed to import my iris\n",
    "import iris\n",
    "import numpy as np"
   ]
  },
  {
   "cell_type": "code",
   "execution_count": 2,
   "metadata": {
    "collapsed": true
   },
   "outputs": [],
   "source": [
    "def fill_array(tc,xc,yc,zc):\n",
    "    valmax = 30\n",
    "    valmin = 0\n",
    "    zmin = min(zc.points)\n",
    "    zmax = max(zc.points)\n",
    "\n",
    "    t = (tc.points/(365.*24.))*(2.*np.pi)\n",
    "    x = (xc.points/360.) *(2.*np.pi)\n",
    "    y = (yc.points/360.) *(2.*np.pi)\n",
    "    z = (zc.points - zmax)/(zmax-zmin) \n",
    "    \n",
    "    #temp = (valmax-valmin) * np.einsum('i,j,k,l',1+0.*np.sin(t), np.sin(x), np.cos(y), 1+0.*z)\n",
    "    temp = (valmax-valmin) * np.einsum('i,j,k,l', np.sin(t), np.sin(x), np.cos(y), z)\n",
    "\n",
    "    return temp"
   ]
  },
  {
   "cell_type": "code",
   "execution_count": 3,
   "metadata": {
    "collapsed": true
   },
   "outputs": [],
   "source": [
    "#!/usr/bin/env python\n",
    "import iris\n",
    "import numpy as np\n",
    "iris.FUTURE.netcdf_no_unlimited = True\n",
    "\n",
    "#t coordinate in hours: 8760 ~ 1yr\n",
    "def generate_cube(tmin = 1, tmax = 24*7,tsamp = 24*7,\n",
    "                xmin = -179, xmax = 180, xsamp = 360,\n",
    "                ymin = -89, ymax = 89, ysamp = 178,\n",
    "                zmin = 0, zmax = 7000, zsamp = 2):\n",
    "\n",
    "    #Create coordinates:\n",
    "    tco = iris.coords.DimCoord(np.linspace(tmin,tmax,tsamp), standard_name='time', units='hours since 2000-01-01 00:00')\n",
    "    tco.guess_bounds()\n",
    "\n",
    "    xco = iris.coords.DimCoord(np.linspace(xmin,xmax,xsamp), standard_name='longitude', units='degree')\n",
    "    xco.guess_bounds()\n",
    "\n",
    "    yco = iris.coords.DimCoord(np.linspace(ymin,ymax,ysamp), standard_name='latitude', units='degree')\n",
    "    yco.guess_bounds()\n",
    "\n",
    "    zco = iris.coords.DimCoord(np.linspace(zmin,zmax,zsamp), standard_name='height', units='metres')\n",
    "    zco.guess_bounds()\n",
    "\n",
    "    #Create cube:\n",
    "    c1 = iris.cube.Cube(fill_array(tco,xco,yco,zco), standard_name='air_temperature', units='celsius')\n",
    "    c1.add_dim_coord(tco, 0)\n",
    "    c1.add_dim_coord(xco, 1)\n",
    "    c1.add_dim_coord(yco, 2)\n",
    "    c1.add_dim_coord(zco, 3)\n",
    "\n",
    "    cube = c1\n",
    "    return cube"
   ]
  },
  {
   "cell_type": "code",
   "execution_count": 173,
   "metadata": {
    "collapsed": false
   },
   "outputs": [],
   "source": [
    "def my_plot(some_cube):\n",
    "\n",
    "#PLOT\n",
    "#Adapted from http://scitools.org.uk/iris/docs/latest/examples/General/anomaly_log_colouring.html\n",
    "\n",
    "    # Construct a plot title\n",
    "    plot_title = some_cube.name()\n",
    "    \n",
    "\n",
    "\n",
    "    # Create an Axes, specifying the map projection.\n",
    "    plt.axes(projection=ccrs.Mollweide())\n",
    "    #plt.axes(projection=ccrs.Stereographic())\n",
    "\n",
    "    # Make a pseudocolour plot using this colour scheme.\n",
    "    # Use a standard colour map which varies blue-white-red.\n",
    "    # For suitable options, see the 'Diverging colormaps' section in:\n",
    "    # http://matplotlib.org/examples/color/colormaps_reference.html\n",
    "    anom_cmap = 'bwr'\n",
    "    mesh = iplt.pcolormesh(some_cube, cmap=anom_cmap)\n",
    "\n",
    "    # Add a colourbar, with extensions to show handling of out-of-range values.\n",
    "    bar = plt.colorbar(mesh, orientation='horizontal', extend='both')\n",
    "\n",
    "    # Set some suitable fixed \"logarithmic\" colourbar tick positions.\n",
    "    #tick_levels = [-3, -2, -1, 0.0, 1, 2, 3]\n",
    "    #bar.set_ticks(tick_levels)\n",
    "\n",
    "    # Modify the tick labels so that the centre one shows \"+/-<minumum-level>\".        \n",
    "    #minimum_level = 0.0\n",
    "    #maximum_level = 30\n",
    "    #tick_levels[3] = r'$\\pm${:g}'.format(minimum_level)\n",
    "    #bar.set_ticklabels(tick_levels)\n",
    "\n",
    "    # Label the colourbar to show the units.\n",
    "    bar.set_label('[{}]'.format(time_mean.units))\n",
    "\n",
    "    # Add coastlines and a title.\n",
    "    plt.gca().coastlines()\n",
    "    plt.title(plot_title)\n",
    "\n",
    "    # Display the result.\n",
    "    iplt.show()\n"
   ]
  },
  {
   "cell_type": "code",
   "execution_count": 174,
   "metadata": {
    "collapsed": false
   },
   "outputs": [],
   "source": [
    "#TEST: CALCULATE THE MEAN\n",
    "import cartopy.crs as ccrs\n",
    "import iris.coord_categorisation\n",
    "import matplotlib.pyplot as plt\n",
    "import iris.plot as iplt\n",
    "import iris.quickplot as qplt\n",
    "\n",
    "# Enable a future option, to ensure that the netcdf load works the same way\n",
    "# as in future Iris versions.\n",
    "iris.FUTURE.netcdf_promote = True\n",
    "\n",
    "# Load a sample air temperatures sequence.\n",
    "temperatures = generate_cube(tmin = 24, tmax = 24*7,tsamp = 24*7,\n",
    "                xmin = -170, xmax = 170, xsamp = 36,\n",
    "                ymin = -80, ymax = 80, ysamp = 18,\n",
    "                zmin = 0, zmax = 7000, zsamp = 2)\n",
    "\n",
    "\n",
    "# Calculate the mean:\n",
    "time_mean = temperatures.collapsed(['time','height'], iris.analysis.MEAN)\n",
    "\n",
    "# Plot:\n",
    "my_plot(time_mean)"
   ]
  },
  {
   "cell_type": "code",
   "execution_count": 120,
   "metadata": {
    "collapsed": false
   },
   "outputs": [
    {
     "name": "stdout",
     "output_type": "stream",
     "text": [
      "0: air_temperature / (celsius)         (time: 168; longitude: 36; latitude: 18; height: 2)\n",
      "0: air_temperature / (celsius)         (time: 19176; longitude: 36; latitude: 18; height: 2)\n"
     ]
    }
   ],
   "source": [
    "#TEST CONCATENATION AND THEN MEAN\n",
    "\n",
    "#Each cube will span from t_a[i] to t_b[i] with t_num_samp in between\n",
    "#Total span of the cubes: t_a[0] to t_b[-1]\n",
    "\n",
    "t_a = range(1 , 24*800-23,24)\n",
    "t_b = range(24, 24*800,24)\n",
    "t_num_samp = 24\n",
    "\n",
    "cubes = []\n",
    "for t_init,t_end in zip(t_a,t_b):\n",
    "    #print(t_init,t_end)\n",
    "    cubes.append(generate_cube(tmin = t_init, tmax = t_end,tsamp = t_num_samp,\n",
    "                xmin = -170, xmax = 170, xsamp = 36,\n",
    "                ymin = -80, ymax = 80, ysamp = 18,\n",
    "                zmin = 0, zmax = 7000, zsamp = 2))\n",
    "\n",
    "loaded_cubes = iris.cube.CubeList(cubes)\n",
    "\n",
    "disordered = iris.cube.CubeList([loaded_cubes[6],loaded_cubes[0], loaded_cubes[5],loaded_cubes[1],\n",
    "              loaded_cubes[4],loaded_cubes[2], loaded_cubes[3]])\n",
    "\n",
    "concatenated = disordered.concatenate()\n",
    "print(concatenated)\n",
    "\n",
    "concatenated = loaded_cubes.concatenate()\n",
    "print(concatenated)\n",
    "\n",
    "concat_mean = concatenated[0].collapsed(['time','height'], iris.analysis.MEAN)\n",
    "\n",
    "# Plot:\n",
    "my_plot(concat_mean)"
   ]
  },
  {
   "cell_type": "code",
   "execution_count": 119,
   "metadata": {
    "collapsed": false
   },
   "outputs": [
    {
     "name": "stdout",
     "output_type": "stream",
     "text": [
      "0: air_temperature / (celsius)         (time: 799; longitude: 36; latitude: 18)\n"
     ]
    }
   ],
   "source": [
    "#TEST MEAN AND THEN CONCATENATION\n",
    "\n",
    "#Each cube will span from t_a[i] to t_b[i] with t_num_samp in between\n",
    "#Total span of the cubes: t_a[0] to t_b[-1]\n",
    "\n",
    "t_a = range(1 , 24*800-23,24)\n",
    "t_b = range(24, 24*800,24)\n",
    "t_num_samp = 24\n",
    "\n",
    "cubes = []\n",
    "for t_init,t_end in zip(t_a,t_b):\n",
    "    #print(t_init,t_end)\n",
    "    cubes.append(generate_cube(tmin = t_init, tmax = t_end,tsamp = t_num_samp,\n",
    "                xmin = -170, xmax = 170, xsamp = 36,\n",
    "                ymin = -80, ymax = 80, ysamp = 18,\n",
    "                zmin = 0, zmax = 7000, zsamp = 2).collapsed(['time','height'], iris.analysis.MEAN))\n",
    "\n",
    "loaded_cubes = iris.cube.CubeList(cubes)\n",
    "merged_cubes = loaded_cubes.merge()\n",
    "print(merged_cubes)\n",
    "mean_merge_mean = merged_cubes[0].collapsed(['time','height'], iris.analysis.MEAN)\n",
    "my_plot(mean_merge_mean)"
   ]
  },
  {
   "cell_type": "code",
   "execution_count": 114,
   "metadata": {
    "collapsed": false
   },
   "outputs": [
    {
     "data": {
      "text/plain": [
       "False"
      ]
     },
     "execution_count": 114,
     "metadata": {},
     "output_type": "execute_result"
    }
   ],
   "source": []
  },
  {
   "cell_type": "code",
   "execution_count": 115,
   "metadata": {
    "collapsed": false
   },
   "outputs": [
    {
     "name": "stdout",
     "output_type": "stream",
     "text": [
      "air_temperature / (celsius)         (longitude: 36; latitude: 18)\n",
      "     Dimension coordinates:\n",
      "          longitude                           x             -\n",
      "          latitude                            -             x\n",
      "     Scalar coordinates:\n",
      "          height: 3500.0 metres, bound=(-3500.0, 10500.0) metres\n",
      "          time: 2001-02-03 12:30:00, bound=(2000-01-01 00:30:00, 2002-03-10 00:30:00)\n",
      "     Cell methods:\n",
      "          mean: time, height\n",
      "          mean: time, height\n"
     ]
    }
   ],
   "source": [
    "print(mean_merge_mean)"
   ]
  },
  {
   "cell_type": "code",
   "execution_count": 116,
   "metadata": {
    "collapsed": false
   },
   "outputs": [
    {
     "name": "stdout",
     "output_type": "stream",
     "text": [
      "air_temperature / (celsius)         (longitude: 36; latitude: 18)\n",
      "     Dimension coordinates:\n",
      "          longitude                           x             -\n",
      "          latitude                            -             x\n",
      "     Scalar coordinates:\n",
      "          height: 3500.0 metres, bound=(-3500.0, 10500.0) metres\n",
      "          time: 2001-02-03 12:30:00, bound=(2000-01-01 00:30:00, 2002-03-10 00:30:00)\n",
      "     Cell methods:\n",
      "          mean: time, height\n"
     ]
    }
   ],
   "source": [
    "print(concat_mean)"
   ]
  },
  {
   "cell_type": "code",
   "execution_count": 118,
   "metadata": {
    "collapsed": false
   },
   "outputs": [],
   "source": [
    "iris.save(mean_merge_mean,'./shitload_of_data/mean_merge_mean.nc')\n",
    "iris.save(concat_mean,'./shitload_of_data/concat_mean.nc')"
   ]
  },
  {
   "cell_type": "code",
   "execution_count": 123,
   "metadata": {
    "collapsed": false
   },
   "outputs": [],
   "source": [
    "#Save cubes after applying the mean - This simulates what we have after the map phase\n",
    "\n",
    "#Each cube will span from t_a[i] to t_b[i] with t_num_samp in between\n",
    "#Total span of the cubes: t_a[0] to t_b[-1]\n",
    "\n",
    "t_a = range(1 , 24*701-23,24)\n",
    "t_b = range(24, 24*701,24)\n",
    "t_num_samp = 24\n",
    "\n",
    "cubes = []\n",
    "i=0\n",
    "for t_init,t_end in zip(t_a,t_b):\n",
    "    #print(t_init,t_end)\n",
    "    i += 1\n",
    "    cube = generate_cube(tmin = t_init, tmax = t_end,tsamp = t_num_samp,\n",
    "                xmin = -170, xmax = 170, xsamp = 36,\n",
    "                ymin = -80, ymax = 80, ysamp = 18,\n",
    "                zmin = 0, zmax = 7000, zsamp = 2).collapsed(['time','height'], iris.analysis.MEAN)\n",
    "    iris.save(cube,'./shitload_of_data/mean_cube_'+str(i)+'.nc')\n"
   ]
  },
  {
   "cell_type": "code",
   "execution_count": 161,
   "metadata": {
    "collapsed": false
   },
   "outputs": [
    {
     "name": "stdout",
     "output_type": "stream",
     "text": [
      "Not correct:\n",
      "0: air_temperature / (celsius)         (time: 111; longitude: 36; latitude: 18)\n",
      "1: air_temperature / (celsius)         (time: 111; longitude: 36; latitude: 18)\n",
      "2: air_temperature / (celsius)         (time: 111; longitude: 36; latitude: 18)\n",
      "3: air_temperature / (celsius)         (time: 111; longitude: 36; latitude: 18)\n",
      "4: air_temperature / (celsius)         (time: 111; longitude: 36; latitude: 18)\n",
      "5: air_temperature / (celsius)         (time: 111; longitude: 36; latitude: 18)\n",
      "6: air_temperature / (celsius)         (time: 12; longitude: 36; latitude: 18)\n",
      "7: air_temperature / (celsius)         (time: 11; longitude: 36; latitude: 18)\n",
      "8: air_temperature / (celsius)         (time: 11; longitude: 36; latitude: 18)\n",
      "Correct:\n",
      "0: air_temperature / (celsius)         (time: 700; latitude: 18; longitude: 36)\n"
     ]
    }
   ],
   "source": [
    "#Make sure that all these loads are merged in one single cube:\n",
    "\n",
    "cubes1 = iris.load('./shitload_of_data/mean_cube_1*.nc')\n",
    "cubes2 = iris.load('./shitload_of_data/mean_cube_2*.nc')\n",
    "cubes3 = iris.load('./shitload_of_data/mean_cube_3*.nc')\n",
    "cubes4 = iris.load('./shitload_of_data/mean_cube_4*.nc')\n",
    "cubes5 = iris.load('./shitload_of_data/mean_cube_5*.nc')\n",
    "cubes6 = iris.load('./shitload_of_data/mean_cube_6*.nc')\n",
    "cubes7 = iris.load('./shitload_of_data/mean_cube_7*.nc')\n",
    "cubes8 = iris.load('./shitload_of_data/mean_cube_8*.nc')\n",
    "cubes9 = iris.load('./shitload_of_data/mean_cube_9*.nc')\n",
    "cubes = iris.cube.CubeList(cubes1+cubes2+cubes3+cubes4+cubes5+cubes6+cubes7+cubes8+cubes9)\n",
    "print(\"Not correct:\")\n",
    "print(cubes.concatenate())\n",
    "\n",
    "print(\"Correct:\")\n",
    "slices = []\n",
    "for cube in cubes:\n",
    "    for yx_slice in cube.slices(['latitude', 'longitude']):\n",
    "        slices.append(yx_slice)\n",
    "\n",
    "new_cubes = iris.cube.CubeList(slices)\n",
    "\n",
    "print(new_cubes.merge())\n",
    "iris.save(new_cubes[0],'./shitload_of_data/new_cube.nc')\n",
    "my_plot(new_cubes[0])"
   ]
  },
  {
   "cell_type": "code",
   "execution_count": null,
   "metadata": {
    "collapsed": false
   },
   "outputs": [],
   "source": [
    "hours_in_a_day = 24\n",
    "n_days = 1\n",
    "\n",
    "#Cubes will be generated in this range:\n",
    "t0_glob = 1\n",
    "tmax_glob = hours_in_a_day * (n_days)\n",
    "dt_glob = 24\n",
    "\n",
    "#Each single cube will have these number of samples and delta t locally:\n",
    "t_num_samp = 8\n",
    "dt_loc = int(dt_glob / t_num_samp)\n",
    "\n",
    "#These are the arrays which will contain t_init and t_max for each cube\n",
    "t_a = range( t0_glob, tmax_glob - dt_glob + dt_loc,  dt_glob )\n",
    "t_b = range( t0_glob + dt_glob - dt_loc, tmax_glob, dt_glob )\n",
    "\n",
    "#We repeat what we did for the time for the rest of the coordinates:\n",
    "x0_glob = -179\n",
    "xmax_glob = 180\n",
    "dx_glob = 10\n",
    "x_num_samp = 10\n",
    "dx_loc = int(dx_glob / x_num_samp)\n",
    "x_a = range( x0_glob, xmax_glob - dx_glob + dx_loc,  dx_glob )\n",
    "x_b = range( x0_glob + dx_glob - dx_loc, xmax_glob, dx_glob )\n",
    "\n",
    "y0_glob = -89\n",
    "ymax_glob = 89\n",
    "dy_glob = 10\n",
    "y_num_samp = 10\n",
    "dy_loc = int(dy_glob / y_num_samp)\n",
    "y_a = range( y0_glob, ymax_glob - dy_glob + dy_loc,  dy_glob )\n",
    "y_b = range( y0_glob + dy_glob - dy_loc, ymax_glob, dy_glob )\n",
    "\n",
    "\n",
    "cubes = []\n",
    "for t_init,t_end in zip(t_a,t_b):\n",
    "    for x_init,x_end in zip(x_a,x_b):\n",
    "        for y_init,y_end in zip(y_a,y_b):\n",
    "            cubes.append(generate_cube(tmin = t_init, tmax = t_end,tsamp = t_num_samp,\n",
    "                                       xmin = x_init, xmax = x_end,xsamp = x_num_samp,\n",
    "                                       ymin = y_init, ymax = y_end,ysamp = y_num_samp,\n",
    "                                        zmin = 0, zmax = 7000, zsamp = 2))\n",
    "print(len(cubes))"
   ]
  },
  {
   "cell_type": "code",
   "execution_count": 176,
   "metadata": {
    "collapsed": false
   },
   "outputs": [
    {
     "data": {
      "text/plain": [
       "700"
      ]
     },
     "execution_count": 176,
     "metadata": {},
     "output_type": "execute_result"
    }
   ],
   "source": []
  },
  {
   "cell_type": "code",
   "execution_count": null,
   "metadata": {
    "collapsed": true
   },
   "outputs": [],
   "source": []
  }
 ],
 "metadata": {
  "kernelspec": {
   "display_name": "Python 3",
   "language": "python",
   "name": "python3"
  },
  "language_info": {
   "codemirror_mode": {
    "name": "ipython",
    "version": 3
   },
   "file_extension": ".py",
   "mimetype": "text/x-python",
   "name": "python",
   "nbconvert_exporter": "python",
   "pygments_lexer": "ipython3",
   "version": "3.4.5"
  }
 },
 "nbformat": 4,
 "nbformat_minor": 0
}
