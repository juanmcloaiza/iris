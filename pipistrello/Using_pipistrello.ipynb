{
 "cells": [
  {
   "cell_type": "code",
   "execution_count": null,
   "metadata": {
    "collapsed": false
   },
   "outputs": [],
   "source": [
    "import time\n",
    "t0 = time.clock()"
   ]
  },
  {
   "cell_type": "code",
   "execution_count": null,
   "metadata": {
    "collapsed": false,
    "scrolled": true
   },
   "outputs": [],
   "source": [
    "import pipistrello\n"
   ]
  },
  {
   "cell_type": "code",
   "execution_count": null,
   "metadata": {
    "collapsed": false,
    "scrolled": true
   },
   "outputs": [],
   "source": [
    "database_dir = ('/home/juan/MHPC-Thesis/NetCDF_Files')\n",
    "all_cubes = pipistrello.database(database_dir,new_catalogue=True)\n",
    "cubesA = all_cubes.load_cubes('temperature')\n",
    "print(cubesA)"
   ]
  },
  {
   "cell_type": "code",
   "execution_count": null,
   "metadata": {
    "collapsed": false,
    "scrolled": true
   },
   "outputs": [],
   "source": [
    "from iris.util import describe_diff\n",
    "from iris.util import unify_time_units\n",
    "from iris.experimental.equalise_cubes import equalise_attributes\n",
    "\n",
    "def make_cubes_compatible(list_of_cubes):\n",
    "    equalise_attributes(list_of_cubes)\n",
    "    unify_time_units(list_of_cubes)\n",
    "\n",
    "    for cube_i in list_of_cubes:\n",
    "        cube_i.cell_methods = ()\n",
    "    \n",
    "    c = 0\n",
    "    for i in range(len(list_of_cubes)):\n",
    "        for j in range(i+1,len(list_of_cubes)):\n",
    "            if( not list_of_cubes[i].is_compatible(list_of_cubes[j])):\n",
    "                print('cubes {} and {}:\\n'.format(i,j))\n",
    "                describe_diff(list_of_cubes[i],list_of_cubes[j])\n",
    "                c+=1\n",
    "    if c == 0:\n",
    "        print(\"All cubes are now compatible.\")\n",
    "    else:\n",
    "        print(\"{} incompatible cubes\".format(c))\n",
    "        \n",
    "                \n",
    "make_cubes_compatible(cubesA)"
   ]
  },
  {
   "cell_type": "code",
   "execution_count": null,
   "metadata": {
    "collapsed": false,
    "scrolled": false
   },
   "outputs": [],
   "source": [
    "#cheating: change height of cube 11:\n",
    "#cubesA[11].coord('height').points = [1.5]\n",
    "#for i in range(len(cubesA)):\n",
    "#    height_i = cubesA[i].coord('height')\n",
    "#    print(i,height_i.points)\n",
    "\n",
    "def print_span(some_cube):\n",
    "    for i in some_cube.coords():\n",
    "        coord_name = i.name()\n",
    "        if coord_name.lower() == 'time':\n",
    "            print(\"{} < {}, {} calendar < {}\".format\n",
    "                  (\n",
    "                  i.units.num2date(i.points[0]),\n",
    "                  coord_name, i.units.calendar,\n",
    "                  i.units.num2date(i.points[-1])\n",
    "                  )\n",
    "                 )\n",
    "        else:\n",
    "            print(\"{} < {}, {} < {}\".format\n",
    "                  (\n",
    "                  i.points[0],\n",
    "                  coord_name, i.units,\n",
    "                  i.points[-1]\n",
    "                  )\n",
    "                 )\n",
    "\n",
    "\n",
    "A_concat = cubesA.concatenate()\n",
    "#print(\"A=\\n{}\".format(cubesA[0]))\n",
    "#print(\"A=\\n{}\".format(A_concat[0]))\n",
    "for cube in A_concat:\n",
    "    print_span(cube)\n",
    "    print(\"\")"
   ]
  },
  {
   "cell_type": "code",
   "execution_count": null,
   "metadata": {
    "collapsed": true
   },
   "outputs": [],
   "source": [
    "test_cube = A_concat[0]"
   ]
  },
  {
   "cell_type": "code",
   "execution_count": null,
   "metadata": {
    "collapsed": false
   },
   "outputs": [],
   "source": [
    "from iris.time import PartialDateTime\n",
    "from iris import Constraint\n",
    "from iris import FUTURE\n",
    "\n",
    "def get_truth_value(a,years,months,days,hours):\n",
    "\n",
    "    year_bool = (a.point.year in years) or (years == [])            \n",
    "    month_bool = (a.point.month in months) or (months == [])\n",
    "    day_bool = (a.point.day in days) or (days == [])\n",
    "    hour_bool = (a.point.hour in hours) or (hours == [])\n",
    "    \n",
    "    the_constraint = year_bool and month_bool and day_bool and hour_bool\n",
    "    \n",
    "    return the_constraint\n",
    "\n",
    "def pick_times(some_cube,years,months,days,hours):\n",
    "    tconstraint = Constraint(time = lambda a: get_truth_value(a, years, months, days,hours))\n",
    "\n",
    "    with FUTURE.context(cell_datetime_objects=True):\n",
    "        extracted = some_cube.extract(tconstraint)\n",
    "        if extracted is None:\n",
    "            t_coord = some_cube.coord('time')\n",
    "            print(\"No cube extracted, returning 'None'.\")\n",
    "            print(\"Is your selection within the time bounds of the original cube?\")\n",
    "            print(t_coord.units.num2date(t_coord.points[0]))\n",
    "            print(t_coord.units.num2date(t_coord.points[-1]))\n",
    "            print(t_coord.units.calendar)\n",
    "            \n",
    "        return some_cube.extract(tconstraint)"
   ]
  },
  {
   "cell_type": "code",
   "execution_count": null,
   "metadata": {
    "collapsed": false,
    "scrolled": true
   },
   "outputs": [],
   "source": [
    "from iris.analysis.cartography import area_weights\n",
    "from iris.analysis import MEAN\n",
    "\n",
    "month_name = {1:'January',2:'February',3:'March',4:'April',5:'May',6:'June',\n",
    "              7:'July',8:'August',9:'September',10:'October',11:'November',12:'December'}\n",
    "\n",
    "collapsed_cubes = []\n",
    "for month in range(1,13):\n",
    "    print(\"Getting {}...\".format(month_name[month]))\n",
    "    #1. We extract a cube:\n",
    "    cube_i = pick_times(test_cube,[],[month],[],[])\n",
    "\n",
    "    #2. We get the area weights of the cells composing the region:\n",
    "    grid_areas = area_weights(cube_i)\n",
    "\n",
    "    #3. We \"collapse\" our 2D+Time cube into a 0D+Time by averaging using MEAN aggregator:\n",
    "    collapsed_cubes.append(cube_i.collapsed(['longitude', 'latitude'], MEAN, weights=grid_areas))\n",
    "\n",
    "print(\"Done\")\n",
    "tf = time.clock()\n",
    "print(\"Time spent up to now: {}\".format(tf-t0))"
   ]
  },
  {
   "cell_type": "code",
   "execution_count": null,
   "metadata": {
    "collapsed": false
   },
   "outputs": [],
   "source": [
    "import matplotlib.pyplot as plt\n",
    "import iris.quickplot as iplt\n",
    "\n",
    "for i in range(len(collapsed_cubes)):\n",
    "    #Plot...\n",
    "    print(\"Plotting {}...\".format(month_name[i+1]))\n",
    "    iplt.plot(collapsed_cubes[i],linewidth='10',label=month_name[i+1])\n",
    "    plt.legend(loc=4)\n",
    "    #iplt.plot(c_interp,'b.')\n",
    "\n",
    "plt.show()"
   ]
  },
  {
   "cell_type": "code",
   "execution_count": null,
   "metadata": {
    "collapsed": true
   },
   "outputs": [],
   "source": [
    "import matplotlib.pyplot as plt\n",
    "import iris.quickplot as iplt\n",
    "import sys\n",
    "import os, errno\n",
    "import utils as ui\n",
    "import matplotlib.pyplot as plt\n",
    "import iris\n",
    "import iris.quickplot as iplt\n",
    "import numpy as np\n",
    "\n",
    "from __future__ import (absolute_import, division, print_function)\n",
    "from six.moves import (filter, input, map, range, zip)  # noqa\n"
   ]
  }
 ],
 "metadata": {
  "kernelspec": {
   "display_name": "Python 3",
   "language": "python",
   "name": "python3"
  },
  "language_info": {
   "codemirror_mode": {
    "name": "ipython",
    "version": 3
   },
   "file_extension": ".py",
   "mimetype": "text/x-python",
   "name": "python",
   "nbconvert_exporter": "python",
   "pygments_lexer": "ipython3",
   "version": "3.4.5"
  }
 },
 "nbformat": 4,
 "nbformat_minor": 0
}
